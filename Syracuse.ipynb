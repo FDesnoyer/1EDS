{
 "cells": [
  {
   "cell_type": "markdown",
   "metadata": {},
   "source": [
    "# La Suite de Syracuse."
   ]
  },
  {
   "cell_type": "markdown",
   "metadata": {},
   "source": [
    "Mode d'emploi: ceci est un notebook, chaque partie utilisant Python est précédée de \"Entrée[]\", à chaque fois que vous voudrez utiliser une case avec Python, vous appuierez sur \"Shift + Entrée\".\n",
    "\n",
    "Vous répondrez aux questions sur le sujet joint."
   ]
  },
  {
   "cell_type": "markdown",
   "metadata": {},
   "source": [
    "#### L'algorithme de Collatz"
   ]
  },
  {
   "cell_type": "markdown",
   "metadata": {},
   "source": [
    "Voici un algorithme:"
   ]
  },
  {
   "cell_type": "raw",
   "metadata": {},
   "source": [
    "Prendre un nombre entier n\n",
    "Si n est pair, on le divise par 2\n",
    "Sinon on le transforme en 3n+1"
   ]
  },
  {
   "cell_type": "markdown",
   "metadata": {},
   "source": [
    "On propose de le programmer en Python mais le programme est incomplet, complétez-le."
   ]
  },
  {
   "cell_type": "code",
   "execution_count": null,
   "metadata": {},
   "outputs": [],
   "source": [
    "def Coll(n):          ## On définit la fonction Coll(n)\n",
    "    if n%2== :        ## si le reste de n divisé par 2 est ???\n",
    "        c=n//2        ## c = n divisé par 2\n",
    "    else:             ## sinon\n",
    "        c=            ## c = ???\n",
    "    return c          ## le résultat de la fonction est c"
   ]
  },
  {
   "cell_type": "markdown",
   "metadata": {},
   "source": [
    "Pour tester votre programme:"
   ]
  },
  {
   "cell_type": "code",
   "execution_count": null,
   "metadata": {},
   "outputs": [],
   "source": []
  },
  {
   "cell_type": "markdown",
   "metadata": {},
   "source": [
    "A l'aide de votre programme corrigé, compléter le tableau de l'énoncé."
   ]
  },
  {
   "cell_type": "markdown",
   "metadata": {},
   "source": [
    "#### Temps de vol de la suite de Syracuse"
   ]
  },
  {
   "cell_type": "code",
   "execution_count": null,
   "metadata": {},
   "outputs": [],
   "source": [
    "def Syracuse(n):\n",
    "    i=1\n",
    "    if n>1:\n",
    "        k=Coll(n)\n",
    "        while k>1:\n",
    "            i=i+1\n",
    "            k=Coll(k)\n",
    "    return i"
   ]
  },
  {
   "cell_type": "markdown",
   "metadata": {},
   "source": [
    "Que fait le programme ci-dessus? (l'appliquer sur des exemples à la main pour comprendre)"
   ]
  },
  {
   "cell_type": "markdown",
   "metadata": {},
   "source": [
    "A l'aide de ce programme, compléter le tableau demandé dans l'énoncé."
   ]
  },
  {
   "cell_type": "markdown",
   "metadata": {},
   "source": [
    "#### Histoire des Mathématiques"
   ]
  },
  {
   "cell_type": "markdown",
   "metadata": {},
   "source": [
    "Recherchez sur Internet pourquoi cette suite s'appelle suite de Syracuse, donner les diverses dates et records associés à cette suite (plus long temps de vol pour un nombre inférieur à 100, 1000)."
   ]
  },
  {
   "cell_type": "markdown",
   "metadata": {},
   "source": [
    "Peut-on démontrer que l'algorithme \"Syracuse\" ci-dessus s'arrête toujours?"
   ]
  },
  {
   "cell_type": "code",
   "execution_count": null,
   "metadata": {},
   "outputs": [],
   "source": []
  }
 ],
 "metadata": {
  "kernelspec": {
   "display_name": "Python 3",
   "language": "python",
   "name": "python3"
  },
  "language_info": {
   "codemirror_mode": {
    "name": "ipython",
    "version": 3
   },
   "file_extension": ".py",
   "mimetype": "text/x-python",
   "name": "python",
   "nbconvert_exporter": "python",
   "pygments_lexer": "ipython3",
   "version": "3.7.4"
  }
 },
 "nbformat": 4,
 "nbformat_minor": 2
}
