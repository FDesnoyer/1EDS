{
 "cells": [
  {
   "cell_type": "markdown",
   "metadata": {},
   "source": [
    "# Manipulation de listes"
   ]
  },
  {
   "cell_type": "markdown",
   "metadata": {},
   "source": [
    "Pour mémoire: dans ce \"notebook\", il y a des \"cellules\" avec du texte (instructions) et des cellules avec des lignes de code en Python.\n",
    "Quand vous voulez faire fonctionner une cellule de code, pour \"voir\", il faut appuyer sur shift et entrée.\n",
    "Si vous appuyez seulement sur entrée, vous passerez à la ligne.\n",
    "\n",
    "Pour finir le TP, vous pourrez l'imprimer comme vous imprimez une page web à l'aide de votre navigateur: https://www.google.com/search?client=firefox-b-d&q=imprimer+page+web+en+pdf"
   ]
  },
  {
   "cell_type": "markdown",
   "metadata": {},
   "source": [
    "## Manipuler une liste donnée\n",
    "(questions basiques)"
   ]
  },
  {
   "cell_type": "code",
   "execution_count": null,
   "metadata": {},
   "outputs": [],
   "source": [
    "# Validez (shift + entrée) cette cellule pour commencer.\n",
    "L=['Thomas',5,12,'Oeufs','24,5']"
   ]
  },
  {
   "cell_type": "code",
   "execution_count": null,
   "metadata": {},
   "outputs": [],
   "source": [
    "# Validez cette cellule.\n",
    "L.append('bleu')"
   ]
  },
  {
   "cell_type": "markdown",
   "metadata": {},
   "source": [
    "Que contient la liste L?"
   ]
  },
  {
   "cell_type": "code",
   "execution_count": null,
   "metadata": {},
   "outputs": [],
   "source": [
    "# Utilisez cette cellule pour trouver une instruction qui vous dira ce que contient la liste L\n"
   ]
  },
  {
   "cell_type": "markdown",
   "metadata": {},
   "source": [
    "On va essayer de regarder la liste élément par élément, pour cela il y a plusieurs façons de faire."
   ]
  },
  {
   "cell_type": "markdown",
   "metadata": {},
   "source": [
    "### Méthode 1: Parcours d'une liste avec les indices."
   ]
  },
  {
   "cell_type": "code",
   "execution_count": null,
   "metadata": {},
   "outputs": [],
   "source": [
    "# Validez cette cellule pour voir ce que ça donne.\n",
    "N=len(L)           # ici on cherche la LONGUEUR (=len) de la liste\n",
    "for i in range(N): # pour tout i entre 0 et N-1\n",
    "    print(\"L'élément d'indice \",i,\" est L[\",i,\"] = \",L[i])"
   ]
  },
  {
   "cell_type": "code",
   "execution_count": null,
   "metadata": {},
   "outputs": [],
   "source": []
  },
  {
   "cell_type": "markdown",
   "metadata": {},
   "source": [
    "Pour parcourir les indices (numéros attachés à chaque élément de la liste), il faut savoir combien il y en a: c'est la LONGUEUR de la liste (len(L)).\n",
    "\n",
    "Ensuite, on va prendre les nombres de 0 à N-1, un par un (for i in range(N)): attention! on part de 0 pour arriver à N-1.\n",
    "\n",
    "Cette méthode est rapide, si on connaît la longueur de la liste et le numéro (indice) attaché à chaque élément."
   ]
  },
  {
   "cell_type": "markdown",
   "metadata": {},
   "source": [
    "Exercice: en utilisant les indices, faites afficher l'élément demandé à partir de la liste L."
   ]
  },
  {
   "cell_type": "code",
   "execution_count": null,
   "metadata": {},
   "outputs": [],
   "source": [
    "# Faites afficher \"Oeufs\"\n"
   ]
  },
  {
   "cell_type": "code",
   "execution_count": null,
   "metadata": {},
   "outputs": [],
   "source": [
    "# Faites afficher l'élément de numéro 5\n"
   ]
  },
  {
   "cell_type": "code",
   "execution_count": null,
   "metadata": {},
   "outputs": [],
   "source": [
    "# Faites afficher le premier élément de L\n"
   ]
  },
  {
   "cell_type": "code",
   "execution_count": null,
   "metadata": {},
   "outputs": [],
   "source": [
    "# Faites afficher le dernier élément de L\n"
   ]
  },
  {
   "cell_type": "code",
   "execution_count": null,
   "metadata": {},
   "outputs": [],
   "source": []
  },
  {
   "cell_type": "markdown",
   "metadata": {},
   "source": [
    "On pourrait aussi avoir besoin de trouver DIRECTEMENT l'indice (numéro) d'un élément présent dans la liste. C'est la METHODE \"index\"."
   ]
  },
  {
   "cell_type": "code",
   "execution_count": null,
   "metadata": {},
   "outputs": [],
   "source": [
    "# Validez cette cellule pour voir comment utiliser \"index\"\n",
    "L.index('24,5')"
   ]
  },
  {
   "cell_type": "code",
   "execution_count": null,
   "metadata": {},
   "outputs": [],
   "source": [
    "# Validez cette cellule pour vérifier\n",
    "L[4]"
   ]
  },
  {
   "cell_type": "markdown",
   "metadata": {},
   "source": [
    "Que se passe-t-il si on cherche un élément qui n'est pas dans la liste?"
   ]
  },
  {
   "cell_type": "code",
   "execution_count": null,
   "metadata": {},
   "outputs": [],
   "source": [
    "# Validez cette cellule pour voir la réponse\n",
    "L.index(\"Homer\")"
   ]
  },
  {
   "cell_type": "code",
   "execution_count": null,
   "metadata": {},
   "outputs": [],
   "source": [
    "# Validez cette cellule pour continuer\n",
    "S=['Homer','Marge','Bart','Maggie','Lisa',45,'12']\n",
    "L=L+S   # ???"
   ]
  },
  {
   "cell_type": "markdown",
   "metadata": {},
   "source": [
    "A l'aide de la méthode \"index\", donner les indices demandés:"
   ]
  },
  {
   "cell_type": "code",
   "execution_count": null,
   "metadata": {},
   "outputs": [],
   "source": [
    "# Quel est l'indice de Homer dans L?\n"
   ]
  },
  {
   "cell_type": "code",
   "execution_count": null,
   "metadata": {},
   "outputs": [],
   "source": [
    "# Quel est l'indice de 45 dans L?\n"
   ]
  },
  {
   "cell_type": "code",
   "execution_count": null,
   "metadata": {},
   "outputs": [],
   "source": [
    "# Quel est l'indice de Thomas dans C?\n"
   ]
  },
  {
   "cell_type": "code",
   "execution_count": null,
   "metadata": {},
   "outputs": [],
   "source": []
  },
  {
   "cell_type": "markdown",
   "metadata": {},
   "source": [
    "### Méthode 2: parcours de liste comme un \"itérable\"."
   ]
  },
  {
   "cell_type": "markdown",
   "metadata": {},
   "source": [
    "Un \"itérable\" est un objet où l'on a pas vraiment besoin d'indices pour voir ce qu'il contient. Les listes sont des \"itérables\" particuliers."
   ]
  },
  {
   "cell_type": "code",
   "execution_count": null,
   "metadata": {},
   "outputs": [],
   "source": [
    "# Validez cette cellule pour voir ce qui se passe\n",
    "for element in L:\n",
    "    print(element)"
   ]
  },
  {
   "cell_type": "markdown",
   "metadata": {},
   "source": [
    "Vous aurez remarqué qu'il n'y a plus d'indice, on peut directement indiquer à l'ordinateur que l'on veut voir ce qu'il y a dans L en disant \"pour tout ce qu'il y a dans L\" avec la commande \"for ... in L\" (ici l'objet qui est vu s'appelle \"element\")."
   ]
  },
  {
   "cell_type": "markdown",
   "metadata": {},
   "source": [
    "## Création de Listes *\n",
    "(questions avancées)"
   ]
  },
  {
   "cell_type": "markdown",
   "metadata": {},
   "source": [
    "### Définition d'une liste par extension."
   ]
  },
  {
   "cell_type": "markdown",
   "metadata": {},
   "source": [
    "C'est ce qui a été fait dans la première partie, on se donne une liste en écrivant L=[........] c'est-à-dire en écrivant ce qu'il doit y avoir dedans.\n",
    "\n",
    "Cette méthode a le défaut de ne pas être très \"automatique\"."
   ]
  },
  {
   "cell_type": "markdown",
   "metadata": {},
   "source": [
    "### Définition d'une liste par compréhension."
   ]
  },
  {
   "cell_type": "markdown",
   "metadata": {},
   "source": [
    "C'est une méthode très mathématique: on va se donner une liste à l'aide d'une formule."
   ]
  },
  {
   "cell_type": "code",
   "execution_count": null,
   "metadata": {},
   "outputs": [],
   "source": [
    "# Validez cette cellule pour voir le résultat:\n",
    "LC=[i**2 for i in range(10)] # i**2 = i au carré = i puissance 2\n",
    "print(LC)"
   ]
  },
  {
   "cell_type": "markdown",
   "metadata": {},
   "source": [
    "On a créé une liste qui contient les carrés des entiers de 0 à 9 (=10-1)."
   ]
  },
  {
   "cell_type": "code",
   "execution_count": null,
   "metadata": {},
   "outputs": [],
   "source": [
    "# Validez cette cellule pour voir le résultat:\n",
    "LP=[i for i in range(30) if i%2==0]\n",
    "# la commande i%2==0 vérifie que le reste de la division de i par 2 (c'est i%2) est égal (==) 0\n",
    "print(LP)"
   ]
  },
  {
   "cell_type": "markdown",
   "metadata": {},
   "source": [
    "On a créé une liste qui contient les nombres pair de 0 à 29 (=30-1).\n",
    "\n",
    "Exercice: créer une liste LCP qui contient les puissance 4 des entiers pairs de 0 à 15."
   ]
  },
  {
   "cell_type": "code",
   "execution_count": null,
   "metadata": {},
   "outputs": [],
   "source": [
    "# Ici répondez à l'exercice (pensez à mettre un print)\n"
   ]
  },
  {
   "cell_type": "code",
   "execution_count": null,
   "metadata": {},
   "outputs": [],
   "source": []
  },
  {
   "cell_type": "markdown",
   "metadata": {},
   "source": [
    "Exercice: créer une liste LCI qui contient les puissances 3 des entiers impairs de 0 à 25"
   ]
  },
  {
   "cell_type": "code",
   "execution_count": null,
   "metadata": {},
   "outputs": [],
   "source": []
  },
  {
   "cell_type": "code",
   "execution_count": null,
   "metadata": {},
   "outputs": [],
   "source": []
  }
 ],
 "metadata": {
  "kernelspec": {
   "display_name": "Python 3",
   "language": "python",
   "name": "python3"
  },
  "language_info": {
   "codemirror_mode": {
    "name": "ipython",
    "version": 3
   },
   "file_extension": ".py",
   "mimetype": "text/x-python",
   "name": "python",
   "nbconvert_exporter": "python",
   "pygments_lexer": "ipython3",
   "version": "3.7.4"
  }
 },
 "nbformat": 4,
 "nbformat_minor": 2
}
