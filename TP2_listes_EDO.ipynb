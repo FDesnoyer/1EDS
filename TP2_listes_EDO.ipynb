{
 "cells": [
  {
   "cell_type": "markdown",
   "metadata": {},
   "source": [
    "# Listes en Python: TP2, des graphiques."
   ]
  },
  {
   "cell_type": "markdown",
   "metadata": {},
   "source": [
    "*Rappel* : pour exécuter la commande contenue dans une cellule, appuyez sur ls touches \"shift\" et \"entrée\", la touche \"entrée\" seule vous renverra à la ligne.\n",
    "***\n",
    "_Pour sauvegarder votre travail_ utilisez la fonction \"imprimer\" de votre navigateur et imprimez votre travail __dans un fichier en pdf__.\n",
    "***\n",
    "**Attention!** A chaque fois que vous exécutez une cellule, un nombre apparaît qui vous donne l'ordre dans lequel les cellules se sont exécutées, si une étoile * reste figée dans les crochets alors le \"noyau distant\" est planté, il vous faut cliquer sur \"kernel\" et \"restart & clear output\" puis relancer les cellules indispensables."
   ]
  },
  {
   "cell_type": "markdown",
   "metadata": {},
   "source": [
    "### Problème:\n",
    "\n",
    "\n",
    "On s'intéresse au problème de construire une fonction $f$ qui soit non-nulle, dérivable et sa propre dérivée:\n",
    "$$\\left\\{\\begin{array}{ccc}f(0)&=&1\\\\f'&=&f\\end{array}\\right.$$\n",
    "\n",
    "Ici, on va chercher à tracer une courbe possible pour une telle fonction sur l'intervalle [0,2] avec 100 points calculés.\n",
    "\n",
    "***\n",
    "\n",
    "#### 1. Générer une liste\n",
    "\n",
    "Première étape, on va générer une liste qui servira d'abscisses aux points de la courbe."
   ]
  },
  {
   "cell_type": "code",
   "execution_count": null,
   "metadata": {},
   "outputs": [],
   "source": [
    "# Validez cette cellule pour commencer\n",
    "N=100\n",
    "x=[2*k/N for k in range(N+1)]    "
   ]
  },
  {
   "cell_type": "markdown",
   "metadata": {},
   "source": [
    "A votre avis, que fait la ligne \n",
    "<code> x=[2*k/N for k in range(N+1)] </code>?"
   ]
  },
  {
   "cell_type": "markdown",
   "metadata": {},
   "source": [
    "En utilisant une boucle for et la méthode append dans la cellule ci-dessous, proposer une autre construction d'abscisses pour les points de la courbe dans la liste X (si vous n'y arrivez pas, vous pourrez vous servir de x dans la suite)."
   ]
  },
  {
   "cell_type": "code",
   "execution_count": null,
   "metadata": {},
   "outputs": [],
   "source": [
    "# Programme à trous:\n",
    "X=[]\n",
    "for ...:\n",
    "    X.append(...)\n"
   ]
  },
  {
   "cell_type": "markdown",
   "metadata": {},
   "source": [
    "_Quelques explications_ : la valeur $h=\\dfrac{2k}{N}=\\dfrac{(2-0)}{N}$ s'appelle le **pas** et la liste $x$ (tout comme $X$) se nomme **subdivision** de l'intervalle [0,2] de **pas h** "
   ]
  },
  {
   "cell_type": "markdown",
   "metadata": {},
   "source": [
    "#### 2. Liste des ordonnées.\n",
    "***\n",
    "On va utiliser la formule $f(a+h)\\approx f(a)+hf'(a)$ vue dans le cours sur les dérivées.\n",
    "\n",
    "Ici la fonction $f$ qui répond à notre problème est dérivable, on peut donc partir de l'image de 0 qui est donnée:\n",
    "\n",
    "$f(0)=1$ donc $f(0+h)=f(0)+h\\times f'(0)$ or $f=f'$ donc $f(0+h)=f(0)+h\\times f(0)=f(0)\\times(1+h)=(1+h)$\n",
    "\n",
    "Que donne cette formule si on l'applique plusieurs fois?\n",
    "\n",
    "***\n",
    "\n",
    "On admet que $y_k=(1+h)^k$ est l'ordonnée obtenue. Proposer une construction de la liste y dans la cellule suivante en reprenant la valeur de $h$ obtenue."
   ]
  },
  {
   "cell_type": "code",
   "execution_count": null,
   "metadata": {},
   "outputs": [],
   "source": [
    "# Cellule pour construire la liste y\n",
    "y=[(1+2/N)**k for k in range(N+1)]"
   ]
  },
  {
   "cell_type": "markdown",
   "metadata": {},
   "source": [
    "#### 3. Partie graphique.\n",
    "\n",
    "On va construire un graphique qui contiendra à la fois la courbe \"approchée\" obtenue avec la liste y et la \"véritable\" courbe (que l'on ne connaît pas encore) pour comparer les deux et évaluer notre erreur."
   ]
  },
  {
   "cell_type": "code",
   "execution_count": null,
   "metadata": {},
   "outputs": [],
   "source": [
    "# Valider cette cellule pour \"importer\" les modules graphiques.\n",
    "from matplotlib import pyplot as plt"
   ]
  },
  {
   "cell_type": "code",
   "execution_count": null,
   "metadata": {},
   "outputs": [],
   "source": [
    "# On va représenter votre travail (validez cette cellule)\n",
    "plt.clf()\n",
    "plt.plot(x,y,marker='+',linestyle='-')\n",
    "plt.show()"
   ]
  },
  {
   "cell_type": "code",
   "execution_count": null,
   "metadata": {},
   "outputs": [],
   "source": [
    "# Comparaison avec le résultat \"correct\"\n",
    "import math as mt\n",
    "z=[mt.exp(t) for t in x]\n",
    "plt.clf()\n",
    "plt.plot(x,y,marker='+',color='blue')\n",
    "plt.plot(x,z,marker='+',linestyle='-',color='red')\n",
    "plt.show()"
   ]
  },
  {
   "cell_type": "markdown",
   "metadata": {},
   "source": [
    "#### 4. A vous de jouer:\n",
    "\n",
    "Recommencer le TP en modifiant les valeurs utilisées directement dans la cellule suivante en modifiant les valeurs de N, a, b pour voir si l'erreur commise est si importante et comment N influe sur ladite erreur."
   ]
  },
  {
   "cell_type": "code",
   "execution_count": null,
   "metadata": {},
   "outputs": [],
   "source": [
    "import math as mt\n",
    "from matplotlib import pyplot as plt\n",
    "\n",
    "# vous pouvez modifier les valeurs ci-dessous à votre guise\n",
    "N=100\n",
    "a=0\n",
    "b=5\n",
    "\n",
    "# ne touchez pas aux lignes suivantes\n",
    "h=(b-a)/N\n",
    "x=[k*h for k in range(N+1)]\n",
    "y=[(1+h)**k for k in range(N+1)]\n",
    "hp=1/1000\n",
    "xp=[k*h*hp for k in range(1000*(N+1))]\n",
    "z=[mt.exp(t) for t in xp]\n",
    "plt.clf()\n",
    "plt.plot(x,y,marker='+',color='blue')\n",
    "plt.plot(xp,z,marker=',',linestyle='-',color='red')\n",
    "plt.show()"
   ]
  },
  {
   "cell_type": "code",
   "execution_count": null,
   "metadata": {},
   "outputs": [],
   "source": []
  }
 ],
 "metadata": {
  "kernelspec": {
   "display_name": "Python 3",
   "language": "python",
   "name": "python3"
  },
  "language_info": {
   "codemirror_mode": {
    "name": "ipython",
    "version": 3
   },
   "file_extension": ".py",
   "mimetype": "text/x-python",
   "name": "python",
   "nbconvert_exporter": "python",
   "pygments_lexer": "ipython3",
   "version": "3.7.4"
  }
 },
 "nbformat": 4,
 "nbformat_minor": 2
}
